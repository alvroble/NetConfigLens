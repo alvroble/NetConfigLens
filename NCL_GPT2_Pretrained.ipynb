{
  "nbformat": 4,
  "nbformat_minor": 0,
  "metadata": {
    "colab": {
      "provenance": [],
      "gpuType": "T4",
      "authorship_tag": "ABX9TyNLSN/OPaSoDmV+Kg5HwYWQ",
      "include_colab_link": true
    },
    "kernelspec": {
      "name": "python3",
      "display_name": "Python 3"
    },
    "language_info": {
      "name": "python"
    },
    "accelerator": "GPU"
  },
  "cells": [
    {
      "cell_type": "markdown",
      "metadata": {
        "id": "view-in-github",
        "colab_type": "text"
      },
      "source": [
        "<a href=\"https://colab.research.google.com/github/alvroble/NetConfigLens/blob/main/NCL_GPT2_Pretrained.ipynb\" target=\"_parent\"><img src=\"https://colab.research.google.com/assets/colab-badge.svg\" alt=\"Open In Colab\"/></a>"
      ]
    },
    {
      "cell_type": "markdown",
      "source": [
        "#Initial imports and variables assignment"
      ],
      "metadata": {
        "id": "HULpbZuVz3Xr"
      }
    },
    {
      "cell_type": "code",
      "execution_count": null,
      "metadata": {
        "colab": {
          "base_uri": "https://localhost:8080/"
        },
        "id": "5sW1U8lhD7S5",
        "outputId": "36675b79-99be-4138-d28b-065faf1ad422"
      },
      "outputs": [
        {
          "output_type": "stream",
          "name": "stdout",
          "text": [
            "Mounted at /content/drive\n"
          ]
        }
      ],
      "source": [
        "from google.colab import drive\n",
        "drive.mount('/content/drive')"
      ]
    },
    {
      "cell_type": "code",
      "source": [
        "import sys\n",
        "path_files ='/content/drive/MyDrive/Colab Notebooks/NetConfigLens'\n",
        "path_model='/content/drive/MyDrive/Colab Notebooks/NetConfigLens/NCL_GPT2_Pretrained'"
      ],
      "metadata": {
        "id": "UZxrDfGND_M9"
      },
      "execution_count": null,
      "outputs": []
    },
    {
      "cell_type": "code",
      "source": [
        "!pip install -U -q accelerate\n",
        "!pip install -U -q transformers\n",
        "!pip install -q tokenizer\n",
        "!pip install -q gensim\n",
        "!pip install -q datasets\n",
        "!pip install -q evaluate"
      ],
      "metadata": {
        "id": "rhCB8VCFEEZi",
        "colab": {
          "base_uri": "https://localhost:8080/"
        },
        "outputId": "63e6dc96-92e8-441f-d495-94256ad8898a"
      },
      "execution_count": null,
      "outputs": [
        {
          "output_type": "stream",
          "name": "stdout",
          "text": [
            "\u001b[2K     \u001b[90m━━━━━━━━━━━━━━━━━━━━━━━━━━━━━━━━━━━━━━━━\u001b[0m \u001b[32m265.7/265.7 kB\u001b[0m \u001b[31m2.5 MB/s\u001b[0m eta \u001b[36m0:00:00\u001b[0m\n",
            "\u001b[2K     \u001b[90m━━━━━━━━━━━━━━━━━━━━━━━━━━━━━━━━━━━━━━━━\u001b[0m \u001b[32m8.2/8.2 MB\u001b[0m \u001b[31m55.8 MB/s\u001b[0m eta \u001b[36m0:00:00\u001b[0m\n",
            "\u001b[2K     \u001b[90m━━━━━━━━━━━━━━━━━━━━━━━━━━━━━━━━━━━━━━━━\u001b[0m \u001b[32m112.3/112.3 kB\u001b[0m \u001b[31m2.8 MB/s\u001b[0m eta \u001b[36m0:00:00\u001b[0m\n",
            "\u001b[2K     \u001b[90m━━━━━━━━━━━━━━━━━━━━━━━━━━━━━━━━━━━━━━━━\u001b[0m \u001b[32m507.1/507.1 kB\u001b[0m \u001b[31m8.0 MB/s\u001b[0m eta \u001b[36m0:00:00\u001b[0m\n",
            "\u001b[2K     \u001b[90m━━━━━━━━━━━━━━━━━━━━━━━━━━━━━━━━━━━━━━━━\u001b[0m \u001b[32m115.3/115.3 kB\u001b[0m \u001b[31m14.0 MB/s\u001b[0m eta \u001b[36m0:00:00\u001b[0m\n",
            "\u001b[2K     \u001b[90m━━━━━━━━━━━━━━━━━━━━━━━━━━━━━━━━━━━━━━━━\u001b[0m \u001b[32m134.8/134.8 kB\u001b[0m \u001b[31m19.9 MB/s\u001b[0m eta \u001b[36m0:00:00\u001b[0m\n",
            "\u001b[2K     \u001b[90m━━━━━━━━━━━━━━━━━━━━━━━━━━━━━━━━━━━━━━━━\u001b[0m \u001b[32m84.1/84.1 kB\u001b[0m \u001b[31m2.3 MB/s\u001b[0m eta \u001b[36m0:00:00\u001b[0m\n",
            "\u001b[?25h"
          ]
        }
      ]
    },
    {
      "cell_type": "code",
      "source": [
        "import tensorflow as tf\n",
        "from transformers import GPT2Tokenizer, GPT2Config, TFGPT2LMHeadModel, GPT2LMHeadModel\n",
        "from transformers import GPT2LMHeadModel, GPT2Tokenizer, GPT2Config\n",
        "from transformers import TextDataset, DataCollatorForLanguageModeling\n",
        "from transformers import Trainer, TrainingArguments, TrainerCallback\n",
        "from transformers import WEIGHTS_NAME, CONFIG_NAME\n",
        "from pathlib import Path\n",
        "import os\n",
        "from os import listdir\n",
        "from os.path import isfile, join\n",
        "from tqdm import tqdm\n",
        "import matplotlib.pyplot as plt\n",
        "\n",
        "import pandas as pd\n",
        "import random\n",
        "import torch\n",
        "import numpy as np"
      ],
      "metadata": {
        "id": "MWIA-sTkEFdO"
      },
      "execution_count": null,
      "outputs": []
    },
    {
      "cell_type": "markdown",
      "source": [
        "#Data preprocessing"
      ],
      "metadata": {
        "id": "aJSxepoEbHUJ"
      }
    },
    {
      "cell_type": "code",
      "source": [
        "tokenizer = GPT2Tokenizer.from_pretrained(\"gpt2\")"
      ],
      "metadata": {
        "id": "ujiEqeyubItl"
      },
      "execution_count": null,
      "outputs": []
    },
    {
      "cell_type": "code",
      "source": [
        "!cat /content/drive/MyDrive/Colab\\ Notebooks/NetConfigLens/train_configs/* > merged-file_train.txt\n",
        "!cat /content/drive/MyDrive/Colab\\ Notebooks/NetConfigLens/val_configs/* > merged-file_eval.txt"
      ],
      "metadata": {
        "id": "3xLb4upW0-jG"
      },
      "execution_count": null,
      "outputs": []
    },
    {
      "cell_type": "code",
      "source": [
        "train_dataset = TextDataset(\n",
        "  tokenizer=tokenizer,\n",
        "  file_path=\"./merged-file_train.txt\",\n",
        "  block_size=128)\n",
        "\n",
        "eval_dataset = TextDataset(\n",
        "  tokenizer=tokenizer,\n",
        "  file_path=\"./merged-file_eval.txt\",\n",
        "  block_size=128)\n",
        "\n",
        "data_collator = DataCollatorForLanguageModeling(\n",
        "  tokenizer=tokenizer, mlm=False)"
      ],
      "metadata": {
        "id": "NJtoj2ow1HaW",
        "colab": {
          "base_uri": "https://localhost:8080/"
        },
        "outputId": "cc891a75-b819-4125-83dd-fd897fcffcce"
      },
      "execution_count": null,
      "outputs": [
        {
          "output_type": "stream",
          "name": "stderr",
          "text": [
            "/usr/local/lib/python3.10/dist-packages/transformers/data/datasets/language_modeling.py:53: FutureWarning: This dataset will be removed from the library soon, preprocessing should be handled with the 🤗 Datasets library. You can have a look at this example script for pointers: https://github.com/huggingface/transformers/blob/main/examples/pytorch/language-modeling/run_mlm.py\n",
            "  warnings.warn(\n"
          ]
        }
      ]
    },
    {
      "cell_type": "markdown",
      "source": [
        "#Model loading and fine-tuning"
      ],
      "metadata": {
        "id": "8d97vBSipNnY"
      }
    },
    {
      "cell_type": "code",
      "source": [
        "model = GPT2LMHeadModel.from_pretrained(\"gpt2\")"
      ],
      "metadata": {
        "id": "knOqma9apO4o"
      },
      "execution_count": null,
      "outputs": []
    },
    {
      "cell_type": "code",
      "source": [
        "training_args = TrainingArguments(\n",
        "    \"test-trainer\",\n",
        "    evaluation_strategy=\"epoch\",\n",
        "    num_train_epochs=10,\n",
        "    learning_rate=3e-5,\n",
        "    logging_steps = 50\n",
        "    )\n",
        "\n",
        "trainer = Trainer(\n",
        "    model,\n",
        "    training_args,\n",
        "    train_dataset=train_dataset,\n",
        "    eval_dataset=eval_dataset,\n",
        "    data_collator=data_collator,\n",
        "    tokenizer=tokenizer,\n",
        ")"
      ],
      "metadata": {
        "id": "WgdrJReqzTVP"
      },
      "execution_count": null,
      "outputs": []
    },
    {
      "cell_type": "code",
      "source": [
        "trainer.train()"
      ],
      "metadata": {
        "colab": {
          "base_uri": "https://localhost:8080/",
          "height": 444
        },
        "id": "NxlsyWiF3weK",
        "outputId": "4b7c9a7b-4154-4913-b875-515a2db8d213"
      },
      "execution_count": null,
      "outputs": [
        {
          "output_type": "display_data",
          "data": {
            "text/plain": [
              "<IPython.core.display.HTML object>"
            ],
            "text/html": [
              "\n",
              "    <div>\n",
              "      \n",
              "      <progress value='1700' max='1700' style='width:300px; height:20px; vertical-align: middle;'></progress>\n",
              "      [1700/1700 09:15, Epoch 10/10]\n",
              "    </div>\n",
              "    <table border=\"1\" class=\"dataframe\">\n",
              "  <thead>\n",
              " <tr style=\"text-align: left;\">\n",
              "      <th>Epoch</th>\n",
              "      <th>Training Loss</th>\n",
              "      <th>Validation Loss</th>\n",
              "    </tr>\n",
              "  </thead>\n",
              "  <tbody>\n",
              "    <tr>\n",
              "      <td>1</td>\n",
              "      <td>0.389000</td>\n",
              "      <td>0.157242</td>\n",
              "    </tr>\n",
              "    <tr>\n",
              "      <td>2</td>\n",
              "      <td>0.160200</td>\n",
              "      <td>0.108429</td>\n",
              "    </tr>\n",
              "    <tr>\n",
              "      <td>3</td>\n",
              "      <td>0.121700</td>\n",
              "      <td>0.096123</td>\n",
              "    </tr>\n",
              "    <tr>\n",
              "      <td>4</td>\n",
              "      <td>0.109000</td>\n",
              "      <td>0.091705</td>\n",
              "    </tr>\n",
              "    <tr>\n",
              "      <td>5</td>\n",
              "      <td>0.100500</td>\n",
              "      <td>0.087083</td>\n",
              "    </tr>\n",
              "    <tr>\n",
              "      <td>6</td>\n",
              "      <td>0.094700</td>\n",
              "      <td>0.085142</td>\n",
              "    </tr>\n",
              "    <tr>\n",
              "      <td>7</td>\n",
              "      <td>0.089000</td>\n",
              "      <td>0.084218</td>\n",
              "    </tr>\n",
              "    <tr>\n",
              "      <td>8</td>\n",
              "      <td>0.087800</td>\n",
              "      <td>0.082485</td>\n",
              "    </tr>\n",
              "    <tr>\n",
              "      <td>9</td>\n",
              "      <td>0.084100</td>\n",
              "      <td>0.082029</td>\n",
              "    </tr>\n",
              "    <tr>\n",
              "      <td>10</td>\n",
              "      <td>0.082600</td>\n",
              "      <td>0.081689</td>\n",
              "    </tr>\n",
              "  </tbody>\n",
              "</table><p>"
            ]
          },
          "metadata": {}
        },
        {
          "output_type": "stream",
          "name": "stderr",
          "text": [
            "Checkpoint destination directory test-trainer/checkpoint-500 already exists and is non-empty.Saving will proceed but saved results may be invalid.\n"
          ]
        },
        {
          "output_type": "execute_result",
          "data": {
            "text/plain": [
              "TrainOutput(global_step=1700, training_loss=0.20639958830440747, metrics={'train_runtime': 555.7974, 'train_samples_per_second': 24.343, 'train_steps_per_second': 3.059, 'total_flos': 883820298240000.0, 'train_loss': 0.20639958830440747, 'epoch': 10.0})"
            ]
          },
          "metadata": {},
          "execution_count": 41
        }
      ]
    },
    {
      "cell_type": "code",
      "source": [
        "import matplotlib.pyplot as plt\n",
        "import numpy as np\n",
        "# Creating the plot\n",
        "plt.figure(figsize=(6, 4))\n",
        "xval = np.arange(1,11)\n",
        "y_loss = [0.389, 0.1602, 0.1217, 0.109, 0.1005, 0.0947, 0.089,0.0878,0.0841,0.0826]\n",
        "y_val_loss = [0.157242, 0.108429,0.096123, 0.091705, 0.087083, 0.085142,0.084218,0.082485,0.082029,0.081689]\n",
        "\n",
        "# Plotting the first set of values\n",
        "plt.plot(xval,y_loss, label='Training Loss', color='blue')\n",
        "\n",
        "# Plotting the second set of values\n",
        "plt.plot(xval,y_val_loss, label='Validation Loss', color='orange')\n",
        "\n",
        "plt.xticks(xval)\n",
        "\n",
        "# Adding title and labels\n",
        "plt.title('GPT2 pretrained model loss')\n",
        "plt.xlabel('Epoch')\n",
        "plt.ylabel('Loss')\n",
        "\n",
        "# Adding a legend\n",
        "plt.legend()\n",
        "\n",
        "plt.grid(True)\n",
        "\n",
        "# Show the plot\n",
        "plt.show()"
      ],
      "metadata": {
        "colab": {
          "base_uri": "https://localhost:8080/",
          "height": 410
        },
        "id": "zgezx2qbuis2",
        "outputId": "42e4bc62-7ef6-4921-8ce3-760c93a019f8"
      },
      "execution_count": null,
      "outputs": [
        {
          "output_type": "display_data",
          "data": {
            "text/plain": [
              "<Figure size 600x400 with 1 Axes>"
            ],
            "image/png": "[encoded data removed]"
          },
          "metadata": {}
        }
      ]
    },
    {
      "cell_type": "markdown",
      "source": [
        "Model saving"
      ],
      "metadata": {
        "id": "keHLsKc9pWpL"
      }
    },
    {
      "cell_type": "code",
      "source": [
        "# Save the fine-tuned model\n",
        "model.save_pretrained(path_model)\n",
        "tokenizer.save_pretrained(path_model)"
      ],
      "metadata": {
        "colab": {
          "base_uri": "https://localhost:8080/"
        },
        "id": "_7CAoiPk3y6j",
        "outputId": "69af6d7a-f3b7-46b5-d01a-21beee813cb4"
      },
      "execution_count": null,
      "outputs": [
        {
          "output_type": "execute_result",
          "data": {
            "text/plain": [
              "('/content/drive/MyDrive/Colab Notebooks/NetConfigLens/NCL_GPT2_Pretrained/tokenizer_config.json',\n",
              " '/content/drive/MyDrive/Colab Notebooks/NetConfigLens/NCL_GPT2_Pretrained/special_tokens_map.json',\n",
              " '/content/drive/MyDrive/Colab Notebooks/NetConfigLens/NCL_GPT2_Pretrained/vocab.json',\n",
              " '/content/drive/MyDrive/Colab Notebooks/NetConfigLens/NCL_GPT2_Pretrained/merges.txt',\n",
              " '/content/drive/MyDrive/Colab Notebooks/NetConfigLens/NCL_GPT2_Pretrained/added_tokens.json')"
            ]
          },
          "metadata": {},
          "execution_count": 44
        }
      ]
    },
    {
      "cell_type": "markdown",
      "source": [
        "#Prediction and testing"
      ],
      "metadata": {
        "id": "yCjzFfgmU5hY"
      }
    },
    {
      "cell_type": "code",
      "source": [
        "DEVICE = torch.device(\"cuda:0\" if torch.cuda.is_available() else \"cpu\")"
      ],
      "metadata": {
        "id": "Tyou9QNgE6xp"
      },
      "execution_count": null,
      "outputs": []
    },
    {
      "cell_type": "markdown",
      "source": [
        "First, fine-tuned model and tokenizer are loaded"
      ],
      "metadata": {
        "id": "_XuFygAwpbZA"
      }
    },
    {
      "cell_type": "code",
      "source": [
        "tokenizer = GPT2Tokenizer.from_pretrained(path_model)\n",
        "model = GPT2LMHeadModel.from_pretrained(path_model)"
      ],
      "metadata": {
        "id": "TJt4CZZIVJfQ"
      },
      "execution_count": null,
      "outputs": []
    },
    {
      "cell_type": "code",
      "source": [
        "model = model.to(DEVICE)"
      ],
      "metadata": {
        "id": "L2vy6Il_SRYm"
      },
      "execution_count": null,
      "outputs": []
    },
    {
      "cell_type": "markdown",
      "source": [
        "Auxiliar function for text analysis are created"
      ],
      "metadata": {
        "id": "kXikSB9rexnV"
      }
    },
    {
      "cell_type": "code",
      "source": [
        "configuration_start_point = '!'\n",
        "def find_config_start(config_lines, start_sequence):\n",
        "  i=0\n",
        "  config_found = np.False_\n",
        "  while not config_found:\n",
        "    if start_sequence in config_lines[i]:\n",
        "      config_found = True\n",
        "      config_index = i+1\n",
        "    else:\n",
        "      i+=1\n",
        "  return config_index"
      ],
      "metadata": {
        "id": "3yNeAbbJVJfV"
      },
      "execution_count": null,
      "outputs": []
    },
    {
      "cell_type": "code",
      "source": [
        "def get_config_lines(config_file):\n",
        "  file_handle = open(config_file, 'r')\n",
        "  config_lines = file_handle.readlines()\n",
        "  config_index = find_config_start(config_lines,configuration_start_point)\n",
        "  return config_lines[config_index:]\n"
      ],
      "metadata": {
        "id": "gcdJ6Eu-VJfV"
      },
      "execution_count": null,
      "outputs": []
    },
    {
      "cell_type": "code",
      "source": [
        "import re\n",
        "\n",
        "def get_corpus(config_file):\n",
        "  file_handle = open(config_file, 'r')\n",
        "  config_lines = file_handle.read()\n",
        "  #config_lines = config_lines.replace('\\n', ' ')\n",
        "  #config_lines = re.sub('  +', ' ', config_lines)\n",
        "  return config_lines.split(' ')\n"
      ],
      "metadata": {
        "id": "ygCJ08pY5Ik5"
      },
      "execution_count": null,
      "outputs": []
    },
    {
      "cell_type": "code",
      "source": [
        "def build_corpus_words(train_configs,path):\n",
        "  for config_file in train_configs:\n",
        "    corpus = []\n",
        "    print('Config:',config_file)\n",
        "    config_lines = get_config_lines(join(path,config_file))\n",
        "    for i in range(len(config_lines)):\n",
        "      corpus += config_lines[i].split(\" \")\n",
        "    return corpus"
      ],
      "metadata": {
        "id": "HnUGjNxNVJfX"
      },
      "execution_count": null,
      "outputs": []
    },
    {
      "cell_type": "markdown",
      "source": [
        "This *generate_next_word* function leverages the generation method of the model for extracting only the next word that the model is expecting after the prompt."
      ],
      "metadata": {
        "id": "bL_WfUyTe5l9"
      }
    },
    {
      "cell_type": "code",
      "source": [
        "def generate_next_word(input, model):\n",
        "  if isinstance(input,list):\n",
        "    text = \"  \".join(input)\n",
        "    input_len = len(input)\n",
        "  else:\n",
        "    text=input\n",
        "    input_len = len(input.split(\" \"))\n",
        "  input_ids = tokenizer.encode(text, return_tensors='pt')\n",
        "  #print(input_ids)\n",
        "  outputs = model.generate(input_ids=input_ids.to(DEVICE), max_new_tokens=30, pad_token_id=tokenizer.eos_token_id, do_sample=True, top_k=1, top_p=0.99, num_return_sequences=1)\n",
        "  #print(f\"INPUT: {text}\")\n",
        "  #print(f\"OUTPUT: {tokenizer.decode(outputs[0], skip_special_tokens=True)}\")\n",
        "  n=0\n",
        "  for item in tokenizer.decode(outputs[0], skip_special_tokens=True):\n",
        "    if item == '\\n':\n",
        "      n+=1\n",
        "  #print(f\"Hay {n} saltos de linea\")\n",
        "  return tokenizer.decode(outputs[0], skip_special_tokens=True).replace(\"  \",\" \").split(\" \")[input_len]"
      ],
      "metadata": {
        "id": "zHbyM4EYXF1E"
      },
      "execution_count": null,
      "outputs": []
    },
    {
      "cell_type": "code",
      "source": [
        "config_file = 'config_PE-100_WithErrors.cfg'\n",
        "words = get_corpus(join(path_files,config_file))\n",
        "config_file_loc = 'config_PE-100_WithErrors_Loc.cfg'\n",
        "words_loc = get_corpus(join(path_files,config_file_loc))\n",
        "\n",
        "def config_anomaly_detection(context):\n",
        "  tp = 0\n",
        "  fp = 0\n",
        "  colored_config = ''\n",
        "  fails = 0\n",
        "  for i in tqdm(range(len(words)-context)):\n",
        "    if i>=context:\n",
        "      next_word = generate_next_word(words[i-context:i],model)\n",
        "      if next_word in words[i]:\n",
        "        if(\"<err>\") in words_loc[i]:\n",
        "          colored_config += '\\033[96m '+ words[i] + '(expected: '+next_word+')'\n",
        "        else:\n",
        "          colored_config += '\\033[92m '+ words[i]\n",
        "      else:\n",
        "        if(\"<err>\") in words_loc[i]:\n",
        "          colored_config += '\\033[91m '+ words[i] + '(expected: '+next_word+')'\n",
        "          #print(f\"Error Predicted!: {repr(next_word)} and Actual: {repr(words[i])}\")\n",
        "          tp+=1\n",
        "        else:\n",
        "          colored_config += '\\033[95m '+ words[i] + '(expected: '+next_word+')'\n",
        "          #print(f\"False positive: {repr(next_word)} and Actual: {repr(words[i])}\")\n",
        "          fp+=1\n",
        "    else:\n",
        "        colored_config += '\\033[94m '+ words[i]\n",
        "  print(tp,fp)\n",
        "  return tp, fp, colored_config"
      ],
      "metadata": {
        "id": "xwVB4h_cgYJS"
      },
      "execution_count": null,
      "outputs": []
    },
    {
      "cell_type": "markdown",
      "source": [
        "#Test 1. Test for different context lengths"
      ],
      "metadata": {
        "id": "93qC6ZyZSev-"
      }
    },
    {
      "cell_type": "code",
      "source": [
        "context_list = [10,20,30,40,50,60,70,80,90,100]\n",
        "fp_list = []\n",
        "tp_list = []\n",
        "\n",
        "for context in context_list:\n",
        "  tp,fp,colored_config = config_anomaly_detection(context)\n",
        "  tp_list.append(tp)\n",
        "  fp_list.append(fp)"
      ],
      "metadata": {
        "colab": {
          "base_uri": "https://localhost:8080/"
        },
        "id": "ROpmO7pPDxSj",
        "outputId": "71da6b1d-0c34-46a9-a25e-0b9a619cc631"
      },
      "execution_count": null,
      "outputs": [
        {
          "output_type": "stream",
          "name": "stderr",
          "text": [
            "100%|██████████| 594/594 [04:09<00:00,  2.38it/s]\n"
          ]
        },
        {
          "output_type": "stream",
          "name": "stdout",
          "text": [
            "65 25\n"
          ]
        },
        {
          "output_type": "stream",
          "name": "stderr",
          "text": [
            "100%|██████████| 584/584 [03:39<00:00,  2.66it/s]\n"
          ]
        },
        {
          "output_type": "stream",
          "name": "stdout",
          "text": [
            "63 18\n"
          ]
        },
        {
          "output_type": "stream",
          "name": "stderr",
          "text": [
            "100%|██████████| 574/574 [03:33<00:00,  2.69it/s]\n"
          ]
        },
        {
          "output_type": "stream",
          "name": "stdout",
          "text": [
            "61 16\n"
          ]
        },
        {
          "output_type": "stream",
          "name": "stderr",
          "text": [
            "100%|██████████| 564/564 [03:28<00:00,  2.71it/s]\n"
          ]
        },
        {
          "output_type": "stream",
          "name": "stdout",
          "text": [
            "61 21\n"
          ]
        },
        {
          "output_type": "stream",
          "name": "stderr",
          "text": [
            "100%|██████████| 554/554 [03:21<00:00,  2.75it/s]\n"
          ]
        },
        {
          "output_type": "stream",
          "name": "stdout",
          "text": [
            "58 27\n"
          ]
        },
        {
          "output_type": "stream",
          "name": "stderr",
          "text": [
            "100%|██████████| 544/544 [03:14<00:00,  2.79it/s]\n"
          ]
        },
        {
          "output_type": "stream",
          "name": "stdout",
          "text": [
            "56 30\n"
          ]
        },
        {
          "output_type": "stream",
          "name": "stderr",
          "text": [
            "100%|██████████| 534/534 [03:06<00:00,  2.86it/s]\n"
          ]
        },
        {
          "output_type": "stream",
          "name": "stdout",
          "text": [
            "55 27\n"
          ]
        },
        {
          "output_type": "stream",
          "name": "stderr",
          "text": [
            "100%|██████████| 524/524 [03:01<00:00,  2.89it/s]\n"
          ]
        },
        {
          "output_type": "stream",
          "name": "stdout",
          "text": [
            "52 25\n"
          ]
        },
        {
          "output_type": "stream",
          "name": "stderr",
          "text": [
            "100%|██████████| 514/514 [02:54<00:00,  2.94it/s]\n"
          ]
        },
        {
          "output_type": "stream",
          "name": "stdout",
          "text": [
            "52 25\n"
          ]
        },
        {
          "output_type": "stream",
          "name": "stderr",
          "text": [
            "100%|██████████| 504/504 [02:47<00:00,  3.02it/s]"
          ]
        },
        {
          "output_type": "stream",
          "name": "stdout",
          "text": [
            "49 24\n"
          ]
        },
        {
          "output_type": "stream",
          "name": "stderr",
          "text": [
            "\n"
          ]
        }
      ]
    },
    {
      "cell_type": "code",
      "source": [
        "print(tp_list)\n",
        "print(fp_list)\n",
        "#tw=604"
      ],
      "metadata": {
        "id": "EWOfQ-XxOssX",
        "colab": {
          "base_uri": "https://localhost:8080/"
        },
        "outputId": "e7a6cf3f-cbb0-4cf7-dda5-4bcd0e2abdbd"
      },
      "execution_count": null,
      "outputs": [
        {
          "output_type": "stream",
          "name": "stdout",
          "text": [
            "[65, 63, 61, 61, 58, 56, 55, 52, 52, 49]\n",
            "[25, 18, 16, 21, 27, 30, 27, 25, 25, 24]\n"
          ]
        }
      ]
    },
    {
      "cell_type": "code",
      "source": [
        "import matplotlib.pyplot as plt\n",
        "\n",
        "# Sample data\n",
        "x = context_list\n",
        "y1 = tp_list\n",
        "y2 = fp_list\n",
        "total_positives = 70\n",
        "\n",
        "fn_list = np.repeat(total_positives,len(x))-np.array(tp_list)\n",
        "recall = np.divide(tp_list, tp_list+fn_list)\n",
        "precision = np.array(tp_list)/(np.array(tp_list)+np.array(fp_list))\n",
        "f1-score\n",
        "\n",
        "# Create two subplots\n",
        "fig, ax1 = plt.subplots()\n",
        "ax2 = ax1.twinx()  # Creates a second y-axis on the right\n",
        "\n",
        "# Plot on the first subplot\n",
        "ax1.plot(x, recall, 'g.-')\n",
        "ax1.set_xlabel('Context')\n",
        "ax1.set_ylabel('Recall', color='g')\n",
        "ax1.tick_params('y', colors='g')\n",
        "ax1.set_xticks(x)\n",
        "\n",
        "# Plot on the second subplot\n",
        "ax2.plot(x, precision, 'b.-')\n",
        "ax2.set_ylabel('Precision', color='b')\n",
        "ax2.tick_params('y', colors='b')\n",
        "\n",
        "# Show the plot\n",
        "plt.show()\n"
      ],
      "metadata": {
        "id": "8trr6MV5eX_n",
        "colab": {
          "base_uri": "https://localhost:8080/",
          "height": 449
        },
        "outputId": "75c27993-167c-4cb3-e86e-0ff0c03d7a2e"
      },
      "execution_count": null,
      "outputs": [
        {
          "output_type": "display_data",
          "data": {
            "text/plain": [
              "<Figure size 640x480 with 2 Axes>"
            ],
            "image/png": "[encoded data removed]"
          },
          "metadata": {}
        }
      ]
    },
    {
      "cell_type": "markdown",
      "source": [
        "The best result is achieved at 20 words of context"
      ],
      "metadata": {
        "id": "a4-VVL1ZSi8R"
      }
    },
    {
      "cell_type": "code",
      "source": [
        "context = 20\n",
        "tp,fp,colored_config = config_anomaly_detection(context)"
      ],
      "metadata": {
        "colab": {
          "base_uri": "https://localhost:8080/"
        },
        "id": "0-zxYkYtg4ww",
        "outputId": "580b5467-2741-436e-d0f0-8fe52c0c835a"
      },
      "execution_count": null,
      "outputs": [
        {
          "output_type": "stream",
          "name": "stderr",
          "text": [
            "100%|██████████| 584/584 [03:46<00:00,  2.58it/s]"
          ]
        },
        {
          "output_type": "stream",
          "name": "stdout",
          "text": [
            "63 18\n"
          ]
        },
        {
          "output_type": "stream",
          "name": "stderr",
          "text": [
            "\n"
          ]
        }
      ]
    },
    {
      "cell_type": "markdown",
      "source": [
        "With the config_anomaly_detection function, errors can be found and the text can be reconstructed. Color code:\n",
        "\n",
        "$\\color{red}{\\text{True positives}}$\n",
        "\n",
        "$\\color{magenta}{\\text{False positives}}$\n",
        "\n",
        "$\\color{#00FFFF}{\\text{False negatives}}$\n",
        "\n",
        "$\\color{#4D3AFF}{\\text{Initial text, not applicable}}$"
      ],
      "metadata": {
        "id": "2jFicS7OSJ06"
      }
    },
    {
      "cell_type": "code",
      "source": [
        "print(colored_config)"
      ],
      "metadata": {
        "colab": {
          "base_uri": "https://localhost:8080/"
        },
        "id": "iNfKDfGthLP_",
        "outputId": "f70a27d5-8e1a-4735-f4a3-d604ee86278d"
      },
      "execution_count": null,
      "outputs": [
        {
          "output_type": "stream",
          "name": "stdout",
          "text": [
            "\u001b[94m !Image:\u001b[94m Software\u001b[94m version:\u001b[94m IOS-XR\u001b[94m 7.6R3\n",
            "!Image:\u001b[94m Copyright\u001b[94m (C)\u001b[94m 2020\u001b[94m your\u001b[94m favorite\u001b[94m vendor.\u001b[94m All\u001b[94m rights\u001b[94m reserved\n",
            "!Image:\u001b[94m Software\u001b[94m Product:\u001b[94m IOS-XR,\u001b[94m Version:\u001b[94m 7.6R3\n",
            "!Image:\u001b[94m Hardware\u001b[92m Model:\u001b[92m ASR\n",
            "!Image:\u001b[92m Software\u001b[92m Feature\u001b[92m Code:\u001b[92m SP\n",
            "!Image:\u001b[92m System\u001b[92m Configuration\u001b[92m Code:\u001b[91m S5\n",
            "!Image:(expected: S3\n",
            "!Image:)\u001b[92m Package\u001b[92m Configuration\u001b[92m Code:\u001b[95m P4\n",
            "!Image:(expected: P6\n",
            "!Image:)\u001b[92m Software\u001b[92m Baseline\u001b[92m Version:\u001b[92m 2.3.5\n",
            "!Image:\u001b[92m Installation\u001b[92m Information:\n",
            "!Image:\u001b[92m Image\u001b[92m Filename:\u001b[92m IOS-XR-7-6-R-3\n",
            "!Image:\u001b[92m ONIE\u001b[92m SysInfo:\u001b[92m x86_64-accton_asr7736_64x-r0\n",
            "!\n",
            "!\n",
            "!\n",
            "!\n",
            "!\n",
            "!\n",
            "!\u001b[92m Software\u001b[92m version:\u001b[92m IOS-XR\u001b[91m 7.11.1\n",
            "!\n",
            "!\n",
            "logging(expected: 7.6R3\n",
            "!\n",
            "!\n",
            "logging)\u001b[92m level\u001b[92m cml\u001b[91m 4\n",
            "!\n",
            "service(expected: 5\n",
            "!\n",
            "service)\u001b[91m password-encryption\n",
            "!\n",
            "disable(expected: password-encryption\n",
            "!\n",
            "enable)\u001b[92m confirmation-dialog\n",
            "!\n",
            "no\u001b[92m logging\u001b[91m monitor\n",
            "no(expected: console\n",
            "no)\u001b[92m logging\u001b[92m monitor\n",
            "logging\u001b[92m level\u001b[92m nsm\u001b[92m 5\u001b[92m \n",
            "logging\u001b[92m level\u001b[92m rip\u001b[92m 5\u001b[92m \n",
            "logging\u001b[92m level\u001b[92m ripng\u001b[92m 5\u001b[92m \n",
            "logging\u001b[92m level\u001b[92m ospf\u001b[91m 4(expected: 5)\u001b[92m \n",
            "logging\u001b[92m level\u001b[92m ospf6\u001b[91m 4(expected: 5)\u001b[92m \n",
            "logging\u001b[92m level\u001b[92m isis\u001b[92m 5\u001b[92m \n",
            "logging\u001b[92m level\u001b[92m hostp\u001b[92m 5\u001b[92m \n",
            "logging\u001b[92m level\u001b[92m mrib\u001b[92m 5\u001b[92m \n",
            "logging\u001b[92m level\u001b[92m pim\u001b[92m 5\u001b[92m \n",
            "logging\u001b[92m level\u001b[92m auth\u001b[91m 6(expected: 5)\u001b[92m \n",
            "logging\u001b[92m level\u001b[92m mstp\u001b[91m 6(expected: 5)\u001b[92m \n",
            "logging\u001b[92m level\u001b[92m onm\u001b[92m 5\u001b[92m \n",
            "logging\u001b[92m level\u001b[92m hsl\u001b[92m 5\u001b[92m \n",
            "logging\u001b[92m level\u001b[92m oam\u001b[91m 2(expected: 5)\u001b[92m \n",
            "logging\u001b[92m level\u001b[92m vlog\u001b[92m 5\u001b[92m \n",
            "logging\u001b[92m level\u001b[92m trill\u001b[92m 5\u001b[92m \n",
            "logging\u001b[92m level\u001b[92m vrrp\u001b[91m 6(expected: 5)\u001b[92m \n",
            "logging\u001b[92m level\u001b[92m ndd\u001b[92m 5\u001b[92m \n",
            "logging\u001b[92m level\u001b[92m rib\u001b[92m 5\u001b[92m \n",
            "logging\u001b[92m level\u001b[92m bgp\u001b[92m 5\u001b[92m \n",
            "logging\u001b[92m level\u001b[92m l2mrib\u001b[92m 5\u001b[92m \n",
            "logging\u001b[92m level\u001b[92m lag\u001b[92m 5\u001b[92m \n",
            "logging\u001b[92m level\u001b[92m sflow\u001b[92m 5\u001b[92m \n",
            "logging\u001b[92m level\u001b[92m pserv\u001b[92m 5\u001b[92m \n",
            "logging\u001b[92m level\u001b[92m cmm\u001b[92m 5\u001b[92m \n",
            "banner\u001b[91m notd(expected: motd)\u001b[92m ***\u001b[92m Configuration\u001b[92m should\u001b[92m not\u001b[92m be\u001b[92m changed\u001b[92m manually\u001b[92m ***\n",
            "!\n",
            "ip\u001b[92m vrf\u001b[91m mangement\n",
            "!\n",
            "bfd(expected: management\n",
            "!\n",
            "bfd)\u001b[92m interval\u001b[91m 4(expected: 3)\u001b[92m minrx\u001b[92m 3\u001b[92m multiplier\u001b[92m 3\n",
            "!\n",
            "load-balance\u001b[91m prof3\n",
            "load-balance(expected: prof1\n",
            "load-balance)\u001b[92m prof1\u001b[92m macro-flow\n",
            "load-balance\u001b[92m prof1\u001b[92m ipv4\u001b[91m dest-ipv6(expected: dest-ipv4)\u001b[96m src-ipv6(expected: src-ipv6)\u001b[91m destl6-port(expected: destl4-port)\u001b[91m srcl6-port(expected: srcl4-port)\u001b[92m protocol-id\n",
            "load-balance\u001b[92m prof1\u001b[92m ipv6\u001b[91m dest-ipv4(expected: dest-ipv6)\u001b[91m src-ipv4(expected: src-ipv6)\u001b[92m destl4-port\u001b[92m srcl4-port\u001b[92m next-hdr\n",
            "load-balance\u001b[92m prof1\u001b[91m vlan(expected: vxlan)\u001b[91m inner-l2(expected: inner-l3)\u001b[95m dest-ip(expected: srcl4-port)\u001b[92m src-ip\u001b[92m destl4-port\u001b[92m srcl4-port\u001b[92m protocol-id\n",
            "forwarding\u001b[92m profile\u001b[91m l2-profile-four\n",
            "!\n",
            "qos(expected: l2-profile-three\n",
            "!\n",
            "qos)\u001b[92m enable\n",
            "qos\u001b[92m statistics\n",
            "!\n",
            "hostname\u001b[95m PE-100\n",
            "no(expected: PE-96\n",
            "no)\u001b[92m ip\u001b[91m domain-lokup\n",
            "ip(expected: domain-lookup\n",
            "ip)\u001b[92m domain-lookup\u001b[92m vrf\u001b[92m management\n",
            "ip\u001b[92m domain-name\u001b[92m vrf\u001b[92m management\u001b[92m mlfornetworkengineers.ai\n",
            "ip\u001b[92m name-server\u001b[92m vrf\u001b[92m management\u001b[92m 8.8.8.8\n",
            "ip\u001b[92m name-server\u001b[92m vrf\u001b[92m management\u001b[91m 1.1.1.1\n",
            "errdisable(expected: 8.8.8.9\n",
            "errdisable)\u001b[92m cause\u001b[91m stp-bpdu-guard\n",
            "no(expected: link-flap\n",
            "no)\u001b[92m errdisable\u001b[92m cause\u001b[91m link-flap\n",
            "errdisable(expected: link-flap\n",
            "no)\u001b[92m link-flap-setting\u001b[92m max-flaps\u001b[91m 6(expected: 5)\u001b[92m time\u001b[92m 60\n",
            "no\u001b[92m feature\u001b[92m telnet\u001b[92m vrf\u001b[92m management\n",
            "feature\u001b[92m ssh\u001b[92m vrf\u001b[92m management\n",
            "feature\u001b[92m tacacs+\u001b[92m vrf\u001b[92m management\n",
            "tacacs-server\u001b[92m login\u001b[92m host\u001b[92m 10.15.1.10\u001b[92m vrf\u001b[92m management\u001b[92m seq-num\u001b[92m 1\u001b[92m key\u001b[91m 8(expected: 7)\u001b[92m 0x960c890aa72610d6aca0\u001b[92m port\u001b[92m 1623\n",
            "tacacs-server\u001b[92m login\u001b[92m host\u001b[91m 10.15.1.1(expected: 10.15.1.11)\u001b[92m vrf\u001b[92m management\u001b[92m seq-num\u001b[92m 2\u001b[92m key\u001b[95m 7(expected: 9)\u001b[92m 0x960c890a272610d6aca0\u001b[92m port\u001b[92m 1623\n",
            "aaa\u001b[92m local\u001b[92m authentication\u001b[92m unlock-timeout\u001b[92m 1\n",
            "aaa\u001b[92m authentication\u001b[92m login\u001b[92m default\u001b[92m vrf\u001b[92m management\u001b[92m group\u001b[91m tacacs(expected: tacacs+)\u001b[92m local\n",
            "snmp-server\u001b[91m disable(expected: enable)\u001b[92m snmp\u001b[92m vrf\u001b[92m management\u001b[92m \n",
            "snmp-server\u001b[92m view\u001b[95m all(expected: all.1)\u001b[95m .1(expected: included)\u001b[92m included\u001b[92m vrf\u001b[92m management\n",
            "snmp-server\u001b[92m community\u001b[92m test\u001b[92m group\u001b[92m network-operator\u001b[92m vrf\u001b[92m management\n",
            "snmp-server\u001b[92m host\u001b[91m 10.15.1.10(expected: 10.15.1.12)\u001b[92m traps\u001b[92m version\u001b[91m 3(expected: 2c)\u001b[92m test\u001b[92m udp-port\u001b[91m 161(expected: 162)\u001b[92m vrf\u001b[92m management\n",
            "snmp-server\u001b[92m host\u001b[96m 10.15.1.11(expected: 10.15.1.11)\u001b[92m traps\u001b[92m version\u001b[95m 2c(expected: 3)\u001b[92m test\u001b[92m udp-port\u001b[91m 161(expected: 162)\u001b[92m vrf\u001b[92m management\n",
            "feature\u001b[92m ntp\u001b[92m vrf\u001b[92m management\n",
            "ntp\u001b[91m disable(expected: enable)\u001b[92m vrf\u001b[92m management\n",
            "ntp\u001b[92m server\u001b[95m 10.15.1.14(expected: 10.15.1.12)\u001b[92m vrf\u001b[92m management\n",
            "username\u001b[92m admin\u001b[92m role\u001b[92m network-admin\u001b[92m password\u001b[92m encrypted\u001b[92m $1hde642ysfh5eyw3\n",
            "no\u001b[92m username\u001b[92m ios\n",
            "feature\u001b[92m rsyslog\u001b[92m vrf\u001b[92m management\n",
            "logging\u001b[92m server\u001b[92m 10.15.1.15\u001b[91m 3(expected: 5)\u001b[92m facility\u001b[92m local0\u001b[92m vrf\u001b[92m management\n",
            "!\n",
            "\n",
            "interface\u001b[92m et-1-1-1\n",
            "\u001b[92m description\u001b[91m core:40G:PE-100-et-1-1-1(expected: core:400G:PE-73-et-1-1-1)\u001b[92m C-1\u001b[92m et-1-1-100\n",
            "\u001b[92m load-interval\u001b[91m 60\n",
            "(expected: 30\n",
            ")\u001b[92m ip\u001b[92m address\u001b[92m 11.1.100.2/30\n",
            "\u001b[92m mtu\u001b[91m 1500\n",
            "(expected: 9000\n",
            ")\u001b[92m port-channel\u001b[92m load-balance\u001b[92m prof1\n",
            "\u001b[92m port-channel\u001b[92m min-links\u001b[92m 2\n",
            "\u001b[92m ip\u001b[92m ospf\u001b[92m network\u001b[92m point-to-point\n",
            "\u001b[92m ip\u001b[92m ospf\u001b[92m cost\u001b[91m 100000\n",
            "!\n",
            "interface(expected: 1000\n",
            "!\n",
            "\n",
            "\n",
            "interface)\u001b[95m et-1-1-2\n",
            "(expected: et-1-1-4\n",
            ")\u001b[92m description\u001b[92m core:400G:PE-100-et-1-1-2\u001b[92m C-2\u001b[92m et-1-1-100\n",
            "\u001b[92m load-interval\u001b[92m 30\n",
            "\u001b[92m ip\u001b[92m address\u001b[92m 11.2.100.2/30\n",
            "\u001b[92m mtu\u001b[96m 9000\n",
            "(expected: 9000\n",
            ")\u001b[92m port-channel\u001b[92m load-balance\u001b[92m prof1\n",
            "\u001b[92m port-channel\u001b[92m min-links\u001b[91m 5\n",
            "(expected: 2\n",
            ")\u001b[92m ip\u001b[92m ospf\u001b[92m network\u001b[92m point-to-point\n",
            "\u001b[92m ip\u001b[92m ospf\u001b[92m cost\u001b[92m 10000\n",
            "!\n",
            "interface\u001b[95m et-1-1-3\n",
            "(expected: et-1-1-4\n",
            ")\u001b[92m description\u001b[92m core:400G:PE-100-et-1-1-3\u001b[92m C-3\u001b[92m et-1-1-100\n",
            "\u001b[92m load-interval\u001b[92m 30\n",
            "\u001b[92m ip\u001b[91m adress(expected: address)\u001b[95m 11.3.100.2/30\n",
            "(expected: 10.3.100.2/30\n",
            ")\u001b[92m mtu\u001b[95m 1500\n",
            "(expected: 9000\n",
            ")\u001b[92m port-channel\u001b[91m loadbalance(expected: load-balance)\u001b[91m prof3\n",
            "(expected: prof1\n",
            ")\u001b[92m port-channel\u001b[92m min-links\u001b[92m 2\n",
            "\u001b[92m ip\u001b[92m ospf\u001b[92m network\u001b[92m point-to-point\n",
            "\u001b[92m ip\u001b[92m ospf\u001b[92m cost\u001b[91m 100\n",
            "!\n",
            "interface(expected: 1000\n",
            "!\n",
            "\n",
            "\n",
            "interface)\u001b[92m et-1-1-4\n",
            "\u001b[92m description\u001b[92m core:400G:PE-100-et-1-1-4\u001b[92m C-4\u001b[92m et-1-1-100\n",
            "\u001b[92m load-interval\u001b[92m 30\n",
            "\u001b[92m ip\u001b[92m address\u001b[92m 11.4.100.2/30\n",
            "\u001b[92m mtu\u001b[91m 1370\n",
            "(expected: 9000\n",
            ")\u001b[92m port-channel\u001b[92m load-balance\u001b[92m prof1\n",
            "\u001b[92m port-channel\u001b[92m min-links\u001b[92m 2\n",
            "\u001b[92m ip\u001b[92m ospf\u001b[92m network\u001b[92m point-to-point\n",
            "\u001b[92m ip\u001b[92m ospf\u001b[92m cost\u001b[91m 100\n",
            "!\n",
            "\n",
            "interface(expected: 1000\n",
            "!\n",
            "\n",
            "\n",
            "interface)\u001b[95m et-1-2-1\n",
            "(expected: et-1-1-4\n",
            ")\u001b[92m description\u001b[92m edge:10G:PE-100-et-1-2-1\u001b[92m E-100-1\u001b[92m et-1-1-1\n",
            "\u001b[92m load-interval\u001b[92m 30\n",
            "\u001b[92m ip\u001b[92m address\u001b[92m 12.100.1.1/30\n",
            "\u001b[92m mtu\u001b[91m 2000\n",
            "(expected: 1500\n",
            ")\u001b[92m port-channel\u001b[92m load-balance\u001b[92m prof1\n",
            "\u001b[92m port-channel\u001b[92m min-links\u001b[92m 2\n",
            "\u001b[92m ip\u001b[92m ospf\u001b[92m network\u001b[92m point-to-point\n",
            "\u001b[92m ip\u001b[92m ospf\u001b[92m cost\u001b[91m 1000\n",
            "!\n",
            "inerface(expected: 10000\n",
            "!\n",
            "interface)\u001b[95m et-1-2-2\n",
            "(expected: enable\n",
            "!\n",
            "interface)\u001b[92m description\u001b[92m edge:10G:PE-100-et-1-2-2\u001b[91m E-100-1(expected: E-100-2)\u001b[92m et-1-1-1\n",
            "\u001b[92m load-interval\u001b[91m 300\n",
            "(expected: 30\n",
            ")\u001b[92m ip\u001b[92m address\u001b[95m 12.100.2.1/30\n",
            "(expected: 12.100.1.1/30\n",
            ")\u001b[92m mtu\u001b[92m 1500\n",
            "\u001b[92m port-channel\u001b[92m load-balance\u001b[92m prof1\n",
            "\u001b[92m port-channel\u001b[92m min-links\u001b[91m 3\n",
            "(expected: 2\n",
            ")\u001b[92m ip\u001b[92m ospf\u001b[92m network\u001b[92m point-to-point\n",
            "\u001b[92m ip\u001b[92m ospf\u001b[92m cost\u001b[91m 100\n",
            "!\n",
            "\n",
            "\n",
            "interface(expected: 1000\n",
            "!\n",
            "\n",
            "\n",
            "interface)\u001b[91m eth3\n",
            "(expected: eth0\n",
            ")\u001b[92m ip\u001b[92m vrf\u001b[92m forwarding\u001b[92m management\n",
            "\u001b[92m ip\u001b[92m address\u001b[95m 10.2.2.100\n",
            "!\n",
            "interface(expected: 10.2.2.55\n",
            "!\n",
            "interface)\u001b[92m lo\n",
            "\u001b[92m ip\u001b[92m address\u001b[91m 127.0.0.1/32\n",
            "(expected: 127.0.0.1/8\n",
            ")\u001b[92m ip\u001b[92m address\u001b[92m 10.2.2.100\u001b[92m secondary\n",
            "\u001b[92m ipv6\u001b[92m address\u001b[92m ::1/128\n",
            "\u001b[92m ip\u001b[92m ospf\u001b[92m cost\u001b[92m 1\n",
            "!\n",
            "interface\u001b[92m lo.management\n",
            "\u001b[92m ip\u001b[92m vrf\u001b[92m forwarding\u001b[92m management\n",
            "\u001b[92m ip\u001b[92m address\u001b[91m 127.0.0.1/24\n",
            "(expected: 127.0.0.1/8\n",
            ")\u001b[92m ipv6\u001b[92m address\u001b[92m ::1/128\n",
            "\u001b[92m mtu\u001b[92m 1500\n",
            "!\n",
            "router\u001b[92m ospf\n",
            "\u001b[92m ospf\u001b[92m router-id\u001b[91m 1.2.2.100\n",
            "(expected: 10.2.2.86\n",
            ")\u001b[92m bfd\u001b[91m et-1-2-2\n",
            "(expected: all-interfaces\n",
            ")\u001b[95m timers(expected: description)\u001b[92m spf\u001b[92m exp\u001b[92m 50\u001b[92m 50\n",
            "\u001b[92m timers\u001b[92m throttle\u001b[92m lsa\u001b[92m all\u001b[92m 0\u001b[92m 1\u001b[95m 1\n",
            "(expected: timers)\u001b[92m timers\u001b[92m lsa\u001b[92m arrival\u001b[92m 1\n",
            "\u001b[92m passive-interface\u001b[91m lo.management\n",
            "(expected: lo\n",
            ")\u001b[92m ospf\u001b[92m point-point\u001b[92m rfc-incompatible\n",
            "\u001b[92m network\u001b[92m 10.0.1.10/32\u001b[92m area\u001b[92m 0.0.0.0\n",
            "\u001b[92m network\u001b[91m 10.2.1.0/31(expected: 10.2.1.0/30)\u001b[92m area\u001b[92m 0.0.0.0\n",
            "\u001b[92m network\u001b[91m 10.2.2.0/32(expected: 10.2.2.0/30)\u001b[92m area\u001b[92m 0.0.0.0\n",
            "\u001b[92m network\u001b[92m 10.2.3.0/30\u001b[92m area\u001b[92m 0.0.0.0\n",
            "\u001b[92m network\u001b[92m 10.2.3.0/30\u001b[92m area\u001b[92m 0.0.0.0\n",
            "\u001b[92m network\n"
          ]
        }
      ]
    },
    {
      "cell_type": "markdown",
      "source": [
        "#Test 2. Confusion matrix for the best performance"
      ],
      "metadata": {
        "id": "4ed2X6y57a31"
      }
    },
    {
      "cell_type": "markdown",
      "source": [
        "For the best performance"
      ],
      "metadata": {
        "id": "FHgy8Cjwp2Nx"
      }
    },
    {
      "cell_type": "code",
      "source": [
        "import seaborn as sn\n",
        "import pandas as pd\n",
        "import matplotlib.pyplot as plt\n",
        "tp = 63\n",
        "fp = 18\n",
        "total = 604\n",
        "p = 70\n",
        "tn = total-tp-fp\n",
        "fn = p-tp\n",
        "n = total-p\n",
        "\n",
        "array = [[tp,fp],\n",
        "        [fn,tn]]\n",
        "df_cm = pd.DataFrame(array, index = [i for i in [\"Predicted positive\",\"Predicted negative\"]],\n",
        "                  columns = [\"Actual positive\",\"Actual negative\"])\n",
        "plt.figure(figsize = (10,7))\n",
        "sn.heatmap(df_cm, annot=True, fmt='.0f')\n",
        "\n",
        "# accuracy: (tp + tn) / (p + n)\n",
        "accuracy = (tp+tn)/total\n",
        "print('Accuracy:\\t %.4f' % accuracy)\n",
        "# precision tp / (tp + fp)\n",
        "precision = tp / (tp+fp)\n",
        "print('Precision:\\t %.4f' % precision)\n",
        "# recall: tp / (tp + fn)\n",
        "recall = tp / (tp+fn)\n",
        "print('Recall:\\t %.4f' % recall)\n",
        "# f1: 2 tp / (2 tp + fp + fn)\n",
        "f1 = 2*tp / (2*tp + fp + fn)\n",
        "print('F1 score:\\t %.4f' % f1)\n",
        "# fpr: 2 tp / (2 tp + fp + fn)\n",
        "fpr = fp / (tn+fp)\n",
        "print('False positives rate:\\t %.4f' % fpr)\n",
        "# fnr: 2 tp / (2 tp + fp + fn)\n",
        "fnr = fn / (tp+fn)\n",
        "print('False negatives rate:\\t %.4f' % fnr)"
      ],
      "metadata": {
        "colab": {
          "base_uri": "https://localhost:8080/",
          "height": 710
        },
        "id": "2eXIay2e7IF5",
        "outputId": "277aeee9-e3ba-4f01-b81c-dfda147722f1"
      },
      "execution_count": null,
      "outputs": [
        {
          "output_type": "stream",
          "name": "stdout",
          "text": [
            "Accuracy:\t 0.9702\n",
            "Precision:\t 0.7778\n",
            "Recall:\t 0.9000\n",
            "F1 score:\t 0.8344\n",
            "False positives rate:\t 0.0333\n",
            "False negatives rate:\t 0.1000\n"
          ]
        },
        {
          "output_type": "display_data",
          "data": {
            "text/plain": [
              "<Figure size 1000x700 with 2 Axes>"
            ],
            "image/png": "[encoded data removed]"
          },
          "metadata": {}
        }
      ]
    }
  ]
}